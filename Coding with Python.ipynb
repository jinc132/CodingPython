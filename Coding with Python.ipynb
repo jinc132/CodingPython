{
 "cells": [
  {
   "cell_type": "markdown",
   "metadata": {},
   "source": [
    "Task 1: [Some gun violence analysis with Wikipedia](https://nbviewer.jupyter.org/gist/minrk/4358066/Gun%20Data.ipynb)\n",
    "\n",
    "This Jupyter Notebook is particularly interesting since it investigates the relations between per capita values for gun related homicides to GDP and total homicides. It utilizes data gathered from Wikipedia and analyzes data from a international perspective by putting the U.S. situation in context relative to other nations. \n",
    "\n",
    "I particularly found interesting that compared to Canada and the United Kingdom, the likelihood of being killed is signficantly high. Which in effect is pretty extreme. Furthermore, I found it interesting that although his data and analysis concludes that relationship between the gun data and total homicides was valid, the author's conclusion seems to refute it. In contrast to what the data explains, another data source (FBI data) supports an argument that the influence of guns to homcides is close to half of what was stated by the author's initial analysis."
   ]
  },
  {
   "cell_type": "markdown",
   "metadata": {},
   "source": [
    "Task 2A: \n",
    "__Popular Python Packages__\n",
    "1. This library contains tools that grants the ability to use data structures and has data analysis tools. [pandas](https://pandas.pydata.org)\n",
    "2. NumPy is a library that can be used for scientific computing. It can be used as a efficient multi-dimensional container for generic data which in effect quickly intergrates a variety of databases. [NumPy](http://www.numpy.org/)\n",
    "3. Scapy enables the ability to create or decode packets of a variety of protocols, send them on the wire, capture them, match requests and replies, and etc. [scapy](https://scapy.net/)\n",
    "4. Requests is a HTTP library which provides the ability to send requests. [Requests](http://docs.python-requests.org/en/master/)\n",
    "5. TensorFlow is used for high-performance numerical computations. It has a strong support for deep learning and machine learning. [TensorFlow](https://www.tensorflow.org/)"
   ]
  },
  {
   "cell_type": "markdown",
   "metadata": {},
   "source": [
    "Task 2B: \n",
    "    __Library Similar To Ggplot__\n",
    "[Seaborn](https://seaborn.pydata.org/) "
   ]
  },
  {
   "cell_type": "markdown",
   "metadata": {},
   "source": [
    "Task 2C: \n",
    "__Library using dataframes__\n",
    "[Pandas](https://pandas.pydata.org/)"
   ]
  },
  {
   "cell_type": "markdown",
   "metadata": {},
   "source": [
    "Task 3:\n",
    "    1. Unlike R, python's indexes begin at 0 while R begins at 1.\n",
    "    2. Compared to R which uses curly braces for functions, python does not. Rather, it uses indentation. \n",
    "    3. In R when you subset with a negative values it excludes those indices from the range however, in python it returns an element near the bottom. For instance: data[-2] would return the second to last element."
   ]
  },
  {
   "cell_type": "code",
   "execution_count": 1,
   "metadata": {},
   "outputs": [
    {
     "name": "stdout",
     "output_type": "stream",
     "text": [
      "Hi! There is a weird snowman outside\n"
     ]
    }
   ],
   "source": [
    "#Task 4\n",
    "firstWord = \"Hi!\"\n",
    "secWord = \"weird\"\n",
    "thirdWord = \"snowman\"\n",
    "fourWord = \"outside\"\n",
    "\n",
    "print(firstWord + \" There is a \" + secWord + \" \" + thirdWord + \" \" + fourWord)"
   ]
  },
  {
   "cell_type": "code",
   "execution_count": 2,
   "metadata": {},
   "outputs": [
    {
     "name": "stdout",
     "output_type": "stream",
     "text": [
      "Hi! There are 10 weird snowman outside\n",
      "HI! THERE ARE 10 WEIRD SNOWMAN OUTSIDE\n"
     ]
    }
   ],
   "source": [
    "#Task 5 \n",
    "import string as s\n",
    "\n",
    "num = 10\n",
    "sent1 = firstWord + \" There are \" + str(num) + \" \" + secWord + \" \" + thirdWord + \" \" + fourWord\n",
    "print(sent1)\n",
    "\n",
    "sent2 = s.upper(firstWord + \" There are \" + str(num) + \" \" + secWord + \" \" + thirdWord + \" \" + fourWord)\n",
    "print(sent2)\n",
    "\n"
   ]
  },
  {
   "cell_type": "code",
   "execution_count": 3,
   "metadata": {},
   "outputs": [
    {
     "data": {
      "text/plain": [
       "'Hi! There are 10 weird snowman outside. HI! THERE ARE 10 WEIRD SNOWMAN OUTSIDE'"
      ]
     },
     "execution_count": 3,
     "metadata": {},
     "output_type": "execute_result"
    }
   ],
   "source": [
    "#Task 6\n",
    "list = [sent1, sent2]\n",
    "\n",
    "\". \".join(list)"
   ]
  },
  {
   "cell_type": "code",
   "execution_count": 4,
   "metadata": {},
   "outputs": [
    {
     "name": "stdout",
     "output_type": "stream",
     "text": [
      "5\n",
      "17\n"
     ]
    }
   ],
   "source": [
    "print(list[0].count('e'))\n",
    "\n",
    "print(list[0].find(\"weird\"))"
   ]
  },
  {
   "cell_type": "code",
   "execution_count": 5,
   "metadata": {},
   "outputs": [
    {
     "name": "stdout",
     "output_type": "stream",
     "text": [
      "Hi! There are 10 we\n"
     ]
    }
   ],
   "source": [
    "#Task 7\n",
    "print(list[0][:len(list[0])/2])"
   ]
  },
  {
   "cell_type": "code",
   "execution_count": 6,
   "metadata": {},
   "outputs": [
    {
     "data": {
      "text/plain": [
       "'HI! THERE ARE Crazy WEIRD SNOWMAN'"
      ]
     },
     "execution_count": 6,
     "metadata": {},
     "output_type": "execute_result"
    }
   ],
   "source": [
    "#Task 8s\n",
    "s2 = list[1].replace(\"10\", \"Crazy\")\n",
    "s2 = s2.replace(\"OUTSIDE\", \"10\")\n",
    "s2.strip(' 10')"
   ]
  },
  {
   "cell_type": "code",
   "execution_count": 7,
   "metadata": {},
   "outputs": [
    {
     "name": "stdout",
     "output_type": "stream",
     "text": [
      "['Hi!', 'There', 'are', 'million', '10', 'weird', 'snowman', 'outside']\n"
     ]
    }
   ],
   "source": [
    "#Task 9\n",
    "nuList = list[0].split(' ') \n",
    "\n",
    "nuList.insert(len(nuList) / 2 , \"million\")\n",
    "print(nuList)"
   ]
  },
  {
   "cell_type": "code",
   "execution_count": 16,
   "metadata": {},
   "outputs": [
    {
     "name": "stdout",
     "output_type": "stream",
     "text": [
      "1st Quartile\n"
     ]
    }
   ],
   "source": [
    "#Task 10\n",
    "import random\n",
    "\n",
    "randomVal = random.randint(1, 101) \n",
    "\n",
    "if randomVal <= 25 :\n",
    "    print(\"1st Quartile\")\n",
    "elif randomVal <= 50 & randomVal > 25 :\n",
    "    print(\"2nd Quartile\") \n",
    "elif randomVal <= 75 & randomVal > 50 :\n",
    "    print(\"3rd Quartile\")\n",
    "else :\n",
    "    print(\"4th Quartile\")"
   ]
  },
  {
   "cell_type": "code",
   "execution_count": 19,
   "metadata": {},
   "outputs": [
    {
     "name": "stdout",
     "output_type": "stream",
     "text": [
      "Warning, residents of Seattle, temperatures will reach sub-zero temperatures today, please stay indoors if possible\n",
      "\n",
      "Warning, residents of Los Angeles, temperatures will reach sub-zero temperatures today, please stay indoors if possible\n",
      "\n",
      "Warning, residents of New York, temperatures will reach sub-zero temperatures today, please stay indoors if possible\n",
      "\n",
      "Warning, residents of Nashville, temperatures will reach sub-zero temperatures today, please stay indoors if possible\n",
      "\n",
      "Warning, residents of Oceanshore, temperatures will reach sub-zero temperatures today, please stay indoors if possible\n",
      "\n",
      "Warning, residents of Tacoma, temperatures will reach sub-zero temperatures today, please stay indoors if possible\n",
      "\n"
     ]
    }
   ],
   "source": [
    "#Task 11\n",
    "cities = [\"Seattle\", \"Los Angeles\", \"New York\", \"Nashville\", \"Oceanshore\", \"Tacoma\"]\n",
    "\n",
    "for city in cities :\n",
    "    print(\"Warning, residents of \" + city + \", temperatures will reach sub-zero temperatures today, please stay indoors if possible\\n\")\n",
    "    "
   ]
  },
  {
   "cell_type": "code",
   "execution_count": 24,
   "metadata": {},
   "outputs": [
    {
     "ename": "SyntaxError",
     "evalue": "EOL while scanning string literal (<ipython-input-24-93b78c61cb59>, line 6)",
     "output_type": "error",
     "traceback": [
      "\u001b[0;36m  File \u001b[0;32m\"<ipython-input-24-93b78c61cb59>\"\u001b[0;36m, line \u001b[0;32m6\u001b[0m\n\u001b[0;31m    filename = state + \".shp”\u001b[0m\n\u001b[0m                             \n^\u001b[0m\n\u001b[0;31mSyntaxError\u001b[0m\u001b[0;31m:\u001b[0m EOL while scanning string literal\n"
     ]
    }
   ],
   "source": [
    "#Task 12\n",
    "temp = []\n",
    "states = [\"Washington\", \"California\", \"Nevada\", \"Idaho\", \"Montana\", \"Utah\", \"Colorado\", \"New Mexico\"]\n",
    "\n",
    "for state in states:\n",
    "    filename = state + \".shp”\n",
    "    temp.append(filename)\n",
    "    print(\"U://Users/Zhang/Geog_458/\")"
   ]
  },
  {
   "cell_type": "code",
   "execution_count": null,
   "metadata": {},
   "outputs": [],
   "source": []
  }
 ],
 "metadata": {
  "kernelspec": {
   "display_name": "Python 2",
   "language": "python",
   "name": "python2"
  },
  "language_info": {
   "codemirror_mode": {
    "name": "ipython",
    "version": 2
   },
   "file_extension": ".py",
   "mimetype": "text/x-python",
   "name": "python",
   "nbconvert_exporter": "python",
   "pygments_lexer": "ipython2",
   "version": "2.7.15"
  }
 },
 "nbformat": 4,
 "nbformat_minor": 2
}
